{
 "cells": [
  {
   "cell_type": "code",
   "execution_count": 1,
   "id": "c30acda8",
   "metadata": {},
   "outputs": [
    {
     "name": "stdout",
     "output_type": "stream",
     "text": [
      "Conectado ao Excel existente.\n"
     ]
    }
   ],
   "source": [
    "from excelmanager import ExcelManager\n",
    "xl = ExcelManager()"
   ]
  },
  {
   "cell_type": "code",
   "execution_count": null,
   "id": "b6598549",
   "metadata": {},
   "outputs": [],
   "source": [
    "xl.set_value(1,3,5,\"asdasd\")\n",
    "xl.set_formula(1,2,2,\"=SUM(A1:A12)\")\n",
    "xl.set_cell_color(1,2,4,332)\n",
    "xl.set_range_values(\"Planilha1\",(5,5),(13,13),[(1,1,2,3),(1,1,2,3)])\n"
   ]
  },
  {
   "cell_type": "code",
   "execution_count": null,
   "id": "fbb28971",
   "metadata": {},
   "outputs": [],
   "source": [
    "for i in range(1,30):\n",
    "    xl.set_cell_color(1,i,i,8*i)\n",
    "    xl.set_value(1,i+1,i,8*i)"
   ]
  },
  {
   "cell_type": "code",
   "execution_count": 36,
   "id": "d058fa46",
   "metadata": {},
   "outputs": [],
   "source": [
    "xl.get_column_count(1)\n",
    "xl.get_range_values(1,\"A1\",\"F7\")\n",
    "xl.get_value(1,5,4)\n",
    "xl.get_row_count(1)\n",
    "xl.insert_column(1,2)"
   ]
  }
 ],
 "metadata": {
  "kernelspec": {
   "display_name": "Python 3",
   "language": "python",
   "name": "python3"
  },
  "language_info": {
   "codemirror_mode": {
    "name": "ipython",
    "version": 3
   },
   "file_extension": ".py",
   "mimetype": "text/x-python",
   "name": "python",
   "nbconvert_exporter": "python",
   "pygments_lexer": "ipython3",
   "version": "3.12.3"
  }
 },
 "nbformat": 4,
 "nbformat_minor": 5
}
