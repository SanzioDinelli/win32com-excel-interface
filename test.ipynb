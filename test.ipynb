{
 "cells": [
  {
   "cell_type": "code",
   "execution_count": 15,
   "id": "713027d1",
   "metadata": {},
   "outputs": [],
   "source": [
    "import win32com.client\n",
    "\n",
    "excel = win32com.client.Dispatch(\"Excel.Application\")\n",
    "workbook = excel.Workbooks.Add()\n",
    "excel.Visible = True"
   ]
  },
  {
   "cell_type": "code",
   "execution_count": 16,
   "id": "3bc1578d",
   "metadata": {},
   "outputs": [],
   "source": [
    "with open(\"macro.txt\",\"r\") as file:\n",
    "    vba_code = file.read()\n",
    "    file.close()\n",
    "\n",
    "vb_module = workbook.VBProject.VBComponents.Add(1)\n",
    "vb_module.CodeModule.AddFromString(vba_code)"
   ]
  },
  {
   "cell_type": "code",
   "execution_count": 17,
   "id": "f9681316",
   "metadata": {},
   "outputs": [],
   "source": [
    "excel.Application.Run(\"modulo\")"
   ]
  },
  {
   "cell_type": "code",
   "execution_count": 18,
   "id": "1461d321",
   "metadata": {},
   "outputs": [],
   "source": [
    "excel.Quit()"
   ]
  }
 ],
 "metadata": {
  "kernelspec": {
   "display_name": "Python 3",
   "language": "python",
   "name": "python3"
  },
  "language_info": {
   "codemirror_mode": {
    "name": "ipython",
    "version": 3
   },
   "file_extension": ".py",
   "mimetype": "text/x-python",
   "name": "python",
   "nbconvert_exporter": "python",
   "pygments_lexer": "ipython3",
   "version": "3.12.3"
  }
 },
 "nbformat": 4,
 "nbformat_minor": 5
}
